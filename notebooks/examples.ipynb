{
 "cells": [
  {
   "cell_type": "markdown",
   "id": "6d0cdab0",
   "metadata": {},
   "source": [
    "# pyZDCF examples\n",
    "\n",
    "Here, we introduce a few simple examples on how to use **`pyZDCF`** module. The test data is provided in the` ../tests/test_data/` folder of this repository."
   ]
  },
  {
   "cell_type": "markdown",
   "id": "3e568372",
   "metadata": {},
   "source": [
    "## Calculating cross-correlation between two light curves"
   ]
  },
  {
   "cell_type": "code",
   "execution_count": 1,
   "id": "7a385cb8",
   "metadata": {},
   "outputs": [],
   "source": [
    "# Standard libraries\n",
    "import numpy as np\n",
    "import pandas as pd\n",
    "import matplotlib.pyplot as plt\n",
    "\n",
    "# Custom library\n",
    "from pyzdcf import pyzdcf"
   ]
  },
  {
   "cell_type": "code",
   "execution_count": 2,
   "id": "56d6aa4f",
   "metadata": {},
   "outputs": [],
   "source": [
    "test_data = '../tests/test_data/test_lc1/'          # Location of the input data\n",
    "results = '../tests/test_data/test_lc1/results_py/' # Location of the directory for saving the results\n",
    "\n",
    "# Light curve names\n",
    "lc1 = 'lcx_1000'\n",
    "lc2 = 'lcy_1000'\n",
    "\n",
    "# Define parameters in a dictionary\n",
    "\n",
    "params = dict(autocf            =  False,      # Autocorrelation (T) or cross-correlation (F)\n",
    "              prefix            = 'ccf_test',  # Output files prefix\n",
    "              uniform_sampling  =  False,      # Uniform sampling?\n",
    "              omit_zero_lags    =  True,       # Omit zero lag points?\n",
    "              minpts            =  0,          # Min. num. of points per bin (0 is a flag for default value of 11)\n",
    "              num_MC            =  100,        # Num. of Monte Carlo simulations for error estimation\n",
    "              lc1_name          =  lc1,        # Name of the first light curve file\n",
    "              lc2_name          =  lc2         # Name of the second light curve file\n",
    "             )"
   ]
  },
  {
   "cell_type": "code",
   "execution_count": 3,
   "id": "24f76811",
   "metadata": {},
   "outputs": [
    {
     "name": "stdout",
     "output_type": "stream",
     "text": [
      "\n",
      "pyZDCF begins:\n",
      "\n",
      "==============================\n",
      "pyZDCF PARAMETERS:\n",
      "\n",
      "Autocorrelation?   False\n",
      "Uniform sampling?  False\n",
      "Omit zero lags?    True\n",
      "Minimal # in bin:  11\n",
      "# of Monte Carlo:  100\n",
      "Monte Carlo seed:  123456\n",
      "==============================\n",
      "\n",
      "Binning with minimum of 11 points per bin and resolution of 0.001\n",
      "\n",
      "662 bins actually used, 667691 inter-dependent pairs discarded.\n",
      "\n",
      "\n",
      "ccf_test.dcf written...\n",
      "\n",
      "pyZDCF ended.\n",
      "\n"
     ]
    }
   ],
   "source": [
    "# We use non-interactive mode (intr=False)\n",
    "dcf_df = pyzdcf(input_dir=test_data, output_dir=results, intr=False, parameters = params, sep=',')"
   ]
  },
  {
   "cell_type": "code",
   "execution_count": 4,
   "id": "cbf8a0fb",
   "metadata": {},
   "outputs": [
    {
     "data": {
      "text/html": [
       "<div>\n",
       "<style scoped>\n",
       "    .dataframe tbody tr th:only-of-type {\n",
       "        vertical-align: middle;\n",
       "    }\n",
       "\n",
       "    .dataframe tbody tr th {\n",
       "        vertical-align: top;\n",
       "    }\n",
       "\n",
       "    .dataframe thead th {\n",
       "        text-align: right;\n",
       "    }\n",
       "</style>\n",
       "<table border=\"1\" class=\"dataframe\">\n",
       "  <thead>\n",
       "    <tr style=\"text-align: right;\">\n",
       "      <th></th>\n",
       "      <th>tau</th>\n",
       "      <th>-sig(tau)</th>\n",
       "      <th>+sig(tau)</th>\n",
       "      <th>dcf</th>\n",
       "      <th>-err(dcf)</th>\n",
       "      <th>+err(dcf)</th>\n",
       "      <th>#bin</th>\n",
       "    </tr>\n",
       "  </thead>\n",
       "  <tbody>\n",
       "    <tr>\n",
       "      <th>0</th>\n",
       "      <td>-991.0</td>\n",
       "      <td>4.0</td>\n",
       "      <td>0.0</td>\n",
       "      <td>0.135980</td>\n",
       "      <td>0.361559</td>\n",
       "      <td>0.342224</td>\n",
       "      <td>10.0</td>\n",
       "    </tr>\n",
       "    <tr>\n",
       "      <th>1</th>\n",
       "      <td>-988.0</td>\n",
       "      <td>2.0</td>\n",
       "      <td>0.0</td>\n",
       "      <td>-0.217733</td>\n",
       "      <td>0.279988</td>\n",
       "      <td>0.301034</td>\n",
       "      <td>13.0</td>\n",
       "    </tr>\n",
       "    <tr>\n",
       "      <th>2</th>\n",
       "      <td>-985.0</td>\n",
       "      <td>2.0</td>\n",
       "      <td>0.0</td>\n",
       "      <td>-0.061494</td>\n",
       "      <td>0.266546</td>\n",
       "      <td>0.271350</td>\n",
       "      <td>16.0</td>\n",
       "    </tr>\n",
       "    <tr>\n",
       "      <th>3</th>\n",
       "      <td>-982.0</td>\n",
       "      <td>2.0</td>\n",
       "      <td>0.0</td>\n",
       "      <td>0.239601</td>\n",
       "      <td>0.237615</td>\n",
       "      <td>0.223317</td>\n",
       "      <td>19.0</td>\n",
       "    </tr>\n",
       "    <tr>\n",
       "      <th>4</th>\n",
       "      <td>-979.0</td>\n",
       "      <td>2.0</td>\n",
       "      <td>0.0</td>\n",
       "      <td>0.331415</td>\n",
       "      <td>0.208171</td>\n",
       "      <td>0.192523</td>\n",
       "      <td>22.0</td>\n",
       "    </tr>\n",
       "  </tbody>\n",
       "</table>\n",
       "</div>"
      ],
      "text/plain": [
       "     tau  -sig(tau)  +sig(tau)       dcf  -err(dcf)  +err(dcf)  #bin\n",
       "0 -991.0        4.0        0.0  0.135980   0.361559   0.342224  10.0\n",
       "1 -988.0        2.0        0.0 -0.217733   0.279988   0.301034  13.0\n",
       "2 -985.0        2.0        0.0 -0.061494   0.266546   0.271350  16.0\n",
       "3 -982.0        2.0        0.0  0.239601   0.237615   0.223317  19.0\n",
       "4 -979.0        2.0        0.0  0.331415   0.208171   0.192523  22.0"
      ]
     },
     "execution_count": 4,
     "metadata": {},
     "output_type": "execute_result"
    }
   ],
   "source": [
    "# Results are stored into a pandas dataframe\n",
    "\n",
    "dcf_df.head()"
   ]
  },
  {
   "cell_type": "code",
   "execution_count": 5,
   "id": "c39b4109",
   "metadata": {},
   "outputs": [
    {
     "data": {
      "image/png": "[encoded data removed]",
      "text/plain": [
       "<Figure size 1080x360 with 1 Axes>"
      ]
     },
     "metadata": {
      "needs_background": "light"
     },
     "output_type": "display_data"
    }
   ],
   "source": [
    "# Plot the obtained correlation function\n",
    "\n",
    "fig = plt.figure(figsize=(15,5))\n",
    "\n",
    "tt = dcf_df.tau\n",
    "yy = dcf_df.dcf\n",
    "\n",
    "\n",
    "ax = fig.add_subplot(111)\n",
    "ax.plot(tt, yy, 'ko-', markersize = 2)\n",
    "\n",
    "custom_xlim = (0, 1000)\n",
    "custom_ylim = (yy.min()-0.1, yy.max()+0.1)\n",
    "ax.set_xlabel('tau [days]', fontsize = 18, labelpad=10)\n",
    "ax.set_ylabel('correlation', fontsize = 18, labelpad=10)\n",
    "ax.tick_params(direction='in', pad = 5, labelsize=13)\n",
    "#plt.setp(ax, xlim=custom_xlim, ylim=custom_ylim)\n",
    "#ax.legend(fontsize=15)\n",
    "ax.grid(True)"
   ]
  },
  {
   "cell_type": "markdown",
   "id": "c2379c01",
   "metadata": {},
   "source": [
    "## Calculating cross-correlation for a list of 10 light curve pairs"
   ]
  },
  {
   "cell_type": "code",
   "execution_count": 6,
   "id": "6c315474",
   "metadata": {},
   "outputs": [],
   "source": [
    "test_data = '../tests/test_data/test_lcs/'          # Location of the input data\n",
    "results = '../tests/test_data/test_lcs/results_py/' # Location of the directory for saving the results\n",
    "\n",
    "# Light curve names (in my test data, all light curves start with 'lcx' or 'lcy' followed by a number)\n",
    "lc1 = 'lcx'\n",
    "lc2 = 'lcy'\n",
    "\n",
    "# Parameters\n",
    "params = dict(autocf            =  False,      # Autocorrelation (T) or cross-correlation (F)\n",
    "              prefix            =  None,       # Output files prefix\n",
    "              uniform_sampling  =  False,      # Uniform sampling?\n",
    "              omit_zero_lags    =  True,       # Omit zero lag points?\n",
    "              minpts            =  0,          # Min. num. of points per bin (0 is a flag for default value of 11)\n",
    "              num_MC            =  100,        # Num. of Monte Carlo simulations for error estimation\n",
    "              lc1_name          =  None,       # Name of the first light curve file\n",
    "              lc2_name          =  None        # Name of the second light curve file\n",
    "             )\n",
    "\n",
    "# We set prefix, and lc names to None because they will be changed when we loop over each light curve pair\n",
    "# Rest of the parameters remain the same"
   ]
  },
  {
   "cell_type": "code",
   "execution_count": 8,
   "id": "b6deab5f",
   "metadata": {
    "scrolled": false
   },
   "outputs": [
    {
     "name": "stdout",
     "output_type": "stream",
     "text": [
      "Light curve pair num. 1: DONE\n",
      "Light curve pair num. 2: DONE\n",
      "Light curve pair num. 3: DONE\n",
      "Light curve pair num. 4: DONE\n",
      "Light curve pair num. 5: DONE\n",
      "Light curve pair num. 6: DONE\n",
      "Light curve pair num. 7: DONE\n",
      "Light curve pair num. 8: DONE\n",
      "Light curve pair num. 9: DONE\n",
      "Light curve pair num. 10: DONE\n"
     ]
    }
   ],
   "source": [
    "dcfs = []\n",
    "\n",
    "# Looping over 10 light curve pairs\n",
    "for i in range(1,11):\n",
    "    \n",
    "    params['lc1_name'] = lc1+str(i)\n",
    "    params['lc2_name'] = lc2+str(i)\n",
    "    params['prefix'] = 'ccf_test'+str(i)\n",
    "    \n",
    "    # Calling pyzdcf (set verbose=False to turn off printing of the status and parameter information)\n",
    "    dcf_df = pyzdcf(input_dir=test_data, output_dir=results, intr=False, parameters = params, sep=',', verbose=False)\n",
    "    # Adding results to a list for later use\n",
    "    dcfs.append(dcf_df)\n",
    "    print(f'Light curve pair num. {i}: DONE')"
   ]
  },
  {
   "cell_type": "code",
   "execution_count": 11,
   "id": "5e53889b",
   "metadata": {},
   "outputs": [
    {
     "data": {
      "text/html": [
       "<div>\n",
       "<style scoped>\n",
       "    .dataframe tbody tr th:only-of-type {\n",
       "        vertical-align: middle;\n",
       "    }\n",
       "\n",
       "    .dataframe tbody tr th {\n",
       "        vertical-align: top;\n",
       "    }\n",
       "\n",
       "    .dataframe thead th {\n",
       "        text-align: right;\n",
       "    }\n",
       "</style>\n",
       "<table border=\"1\" class=\"dataframe\">\n",
       "  <thead>\n",
       "    <tr style=\"text-align: right;\">\n",
       "      <th></th>\n",
       "      <th>tau</th>\n",
       "      <th>-sig(tau)</th>\n",
       "      <th>+sig(tau)</th>\n",
       "      <th>dcf</th>\n",
       "      <th>-err(dcf)</th>\n",
       "      <th>+err(dcf)</th>\n",
       "      <th>#bin</th>\n",
       "    </tr>\n",
       "  </thead>\n",
       "  <tbody>\n",
       "    <tr>\n",
       "      <th>0</th>\n",
       "      <td>-991.0</td>\n",
       "      <td>4.0</td>\n",
       "      <td>0.0</td>\n",
       "      <td>0.011473</td>\n",
       "      <td>0.359384</td>\n",
       "      <td>0.357717</td>\n",
       "      <td>10.0</td>\n",
       "    </tr>\n",
       "    <tr>\n",
       "      <th>1</th>\n",
       "      <td>-988.0</td>\n",
       "      <td>2.0</td>\n",
       "      <td>0.0</td>\n",
       "      <td>0.309605</td>\n",
       "      <td>0.289672</td>\n",
       "      <td>0.261440</td>\n",
       "      <td>13.0</td>\n",
       "    </tr>\n",
       "    <tr>\n",
       "      <th>2</th>\n",
       "      <td>-985.0</td>\n",
       "      <td>2.0</td>\n",
       "      <td>0.0</td>\n",
       "      <td>0.278174</td>\n",
       "      <td>0.258849</td>\n",
       "      <td>0.238877</td>\n",
       "      <td>16.0</td>\n",
       "    </tr>\n",
       "    <tr>\n",
       "      <th>3</th>\n",
       "      <td>-982.0</td>\n",
       "      <td>2.0</td>\n",
       "      <td>0.0</td>\n",
       "      <td>-0.008930</td>\n",
       "      <td>0.244346</td>\n",
       "      <td>0.244914</td>\n",
       "      <td>19.0</td>\n",
       "    </tr>\n",
       "    <tr>\n",
       "      <th>4</th>\n",
       "      <td>-979.0</td>\n",
       "      <td>2.0</td>\n",
       "      <td>0.0</td>\n",
       "      <td>-0.195255</td>\n",
       "      <td>0.211629</td>\n",
       "      <td>0.221647</td>\n",
       "      <td>22.0</td>\n",
       "    </tr>\n",
       "  </tbody>\n",
       "</table>\n",
       "</div>"
      ],
      "text/plain": [
       "     tau  -sig(tau)  +sig(tau)       dcf  -err(dcf)  +err(dcf)  #bin\n",
       "0 -991.0        4.0        0.0  0.011473   0.359384   0.357717  10.0\n",
       "1 -988.0        2.0        0.0  0.309605   0.289672   0.261440  13.0\n",
       "2 -985.0        2.0        0.0  0.278174   0.258849   0.238877  16.0\n",
       "3 -982.0        2.0        0.0 -0.008930   0.244346   0.244914  19.0\n",
       "4 -979.0        2.0        0.0 -0.195255   0.211629   0.221647  22.0"
      ]
     },
     "execution_count": 11,
     "metadata": {},
     "output_type": "execute_result"
    }
   ],
   "source": [
    "# Check the results for light curve pair num. 7\n",
    "dcfs[6].head()"
   ]
  },
  {
   "cell_type": "markdown",
   "id": "58303ef8",
   "metadata": {},
   "source": [
    "These results are saved here: `../tests/test_data/test_lcs/results_py/`."
   ]
  }
 ],
 "metadata": {
  "kernelspec": {
   "display_name": "Python 3 (ipykernel)",
   "language": "python",
   "name": "python3"
  },
  "language_info": {
   "codemirror_mode": {
    "name": "ipython",
    "version": 3
   },
   "file_extension": ".py",
   "mimetype": "text/x-python",
   "name": "python",
   "nbconvert_exporter": "python",
   "pygments_lexer": "ipython3",
   "version": "3.10.5"
  }
 },
 "nbformat": 4,
 "nbformat_minor": 5
}
